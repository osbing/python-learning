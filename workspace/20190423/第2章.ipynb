{
 "cells": [
  {
   "cell_type": "markdown",
   "metadata": {},
   "source": [
    "# 爬虫原理和网页构造\n",
    "Date: 2019/4/25\n",
    "\n",
    "- 网络连接\n",
    " - 自助饮料售货机 GET请求\n",
    "       - Request 请求（请求头|消息体）-->服务器端的 Response 回应（HTML）\n",
    "- 爬虫原理\n",
    "    - 多页面爬虫流程\n",
    "    - 跨页面爬虫流程"
   ]
  },
  {
   "cell_type": "markdown",
   "metadata": {},
   "source": [
    "## 爬虫原理\n",
    "\n",
    "1. 模拟计算机对服务器发起 Request 请求。\n",
    "2. 接收服务器端的 Response 内容并解析、提取所需的信息。\n",
    "        \n",
    "### 多页面爬虫流程\n",
    "\n",
    "多页面网页结构是怎样的。如百度查询结果页。\n",
    "\n",
    "    1. 手动翻页并观察各网页的URL构成特点，构造出所有页面的URL存入列表中。\n",
    "    2. 根据URL列表依次循环取出URL。\n",
    "    3. 定义爬虫函数。\n",
    "    4. 循环调用爬虫函数，存储数据。\n",
    "    5. 循环完毕，结束爬虫程序。 \n",
    "    \n",
    "### 跨页面爬虫流程\n",
    "\n",
    "跨页面 列表和详细页 如简书。\n",
    "\n",
    "    1. 定义爬取函数爬取列表页的所有专题的URL。\n",
    "    2. 将专题URL存入列表中（种子URL）。\n",
    "    3. 定义爬取详细页数据函数。\n",
    "    4. 进入专题详细页面爬取详细页数据。\n",
    "    5. 存储数据，循环完毕，结束爬虫程序。"
   ]
  },
  {
   "cell_type": "code",
   "execution_count": null,
   "metadata": {},
   "outputs": [],
   "source": []
  },
  {
   "cell_type": "markdown",
   "metadata": {},
   "source": [
    "## 网页构造\n",
    "\n",
    "https://www.baidu.com/\n",
    "\n",
    "http://bj.xiaozhu.com/"
   ]
  }
 ],
 "metadata": {
  "kernelspec": {
   "display_name": "Python 3",
   "language": "python",
   "name": "python3"
  },
  "language_info": {
   "codemirror_mode": {
    "name": "ipython",
    "version": 3
   },
   "file_extension": ".py",
   "mimetype": "text/x-python",
   "name": "python",
   "nbconvert_exporter": "python",
   "pygments_lexer": "ipython3",
   "version": "3.7.3"
  }
 },
 "nbformat": 4,
 "nbformat_minor": 2
}
