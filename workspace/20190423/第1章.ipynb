{
 "cells": [
  {
   "cell_type": "markdown",
   "metadata": {},
   "source": [
    "至此。第一章内容学习完毕。\n",
    "Time 23:00\n",
    "Date：2019/4/23 2019/4/24 晚\n",
    "\n",
    "\n",
    "[ TOC ]\n",
    "\n",
    "\n",
    "### 字符串4个方法\n",
    "- slipt()\n",
    "- replace()\n",
    "- strip()\n",
    "- format()\n",
    "\n",
    "### method 方法\n",
    " - def funciton():\n",
    " \n",
    "### 流程控制\n",
    "\n",
    "#### 判断\n",
    "- if\n",
    "- 多重判断 if elif else\n",
    "\n",
    "#### 循环\n",
    "- for\n",
    "- while\n",
    "- 多重循环\n",
    "    列表推导式构\n",
    "    \n",
    "### 数据结构\n",
    "- list[]\n",
    "- key{}\n",
    "- tuple()\n",
    "\n",
    "### 文件操作\n",
    "- f.read()\n",
    "- f.write()\n",
    "- f.close()\n",
    "\n",
    "#### modle 模式\n",
    "- 'r'\n",
    "- 'w'\n",
    "- 'a'\n",
    "- '+'\n",
    "- 'b'\n",
    "- 'w+'\n",
    "\n",
    "### 面向对象编程\n",
    "- 类\n",
    "- 类的属性\n",
    "- 类的实例化\n",
    "    - 魔法方法 __init__()\n",
    "- 类的继承"
   ]
  },
  {
   "cell_type": "markdown",
   "metadata": {},
   "source": [
    "字符串方法"
   ]
  },
  {
   "cell_type": "code",
   "execution_count": 1,
   "metadata": {},
   "outputs": [
    {
     "name": "stdout",
     "output_type": "stream",
     "text": [
      "['www', 'baidu', 'com']\n"
     ]
    }
   ],
   "source": [
    "# split()\n",
    "a = 'www.baidu.com'\n",
    "print(a.split('.'))\n",
    "# result ['www', 'baidu', 'com']"
   ]
  },
  {
   "cell_type": "code",
   "execution_count": 2,
   "metadata": {},
   "outputs": [
    {
     "name": "stdout",
     "output_type": "stream",
     "text": [
      "There are apples\n"
     ]
    }
   ],
   "source": [
    "# replace()\n",
    "a = 'There is apples'\n",
    "b = a.replace('is', 'are')\n",
    "print(b)\n",
    "# result There are apples"
   ]
  },
  {
   "cell_type": "code",
   "execution_count": 3,
   "metadata": {},
   "outputs": [
    {
     "name": "stdout",
     "output_type": "stream",
     "text": [
      "python is cool\n",
      " python *is *good\n"
     ]
    }
   ],
   "source": [
    "# strip() one\n",
    "a = '   python is cool   '\n",
    "print(a.strip())\n",
    "# result python is cool\n",
    "\n",
    "# strip() two\n",
    "a = '*** python *is *good***'\n",
    "print(a.strip('*!'))\n",
    "# result  python *is *good"
   ]
  },
  {
   "cell_type": "code",
   "execution_count": null,
   "metadata": {
    "scrolled": true
   },
   "outputs": [
    {
     "name": "stdout",
     "output_type": "stream",
     "text": [
      "InputYourWord:1\n",
      "https://pexels.com/search/1/\n"
     ]
    }
   ],
   "source": [
    "# format()\n",
    "content = input('InputYourWord:')\n",
    "url_path = 'https://pexels.com/search/{}/'.format(content)\n",
    "print(url_path)\n",
    "# InputYourWord:python\n",
    "# https://pexels.com/search/python/"
   ]
  },
  {
   "cell_type": "code",
   "execution_count": null,
   "metadata": {},
   "outputs": [
    {
     "data": {
      "text/plain": [
       "6.0"
      ]
     },
     "execution_count": 5,
     "metadata": {},
     "output_type": "execute_result"
    }
   ],
   "source": [
    "def function(a,b):\n",
    "    '''直角三角形面积'''\n",
    "    return 1/2*a*b #返回一个值\n",
    "#     print(1/2*a*b) #调用函数执行打印\n",
    "function(3,4)"
   ]
  },
  {
   "cell_type": "code",
   "execution_count": 64,
   "metadata": {},
   "outputs": [
    {
     "name": "stdout",
     "output_type": "stream",
     "text": [
      "159****1598\n"
     ]
    }
   ],
   "source": [
    "def change_number(number):\n",
    "#     number = input('InputYourPhoneNumber:')\n",
    "    number = '15989771598'\n",
    "    hiding_number = number.replace(number[3:7],'*'*4) #对输入的参数切片，把参数[3:7]部分replace()替换\n",
    "    print(hiding_number)\n",
    "# change_number('15989771598')\n",
    "change_number('')"
   ]
  },
  {
   "cell_type": "code",
   "execution_count": 1,
   "metadata": {
    "collapsed": true
   },
   "outputs": [
    {
     "name": "stdout",
     "output_type": "stream",
     "text": [
      "password:12345\n",
      "Success!\n"
     ]
    }
   ],
   "source": [
    "# # 判断语句\n",
    "# if condition:\n",
    "#     do\n",
    "# else:\n",
    "#     do\n",
    "    \n",
    "# # 多重判断语句\n",
    "# if condition:\n",
    "#     do\n",
    "# elif condition:\n",
    "#     do\n",
    "# else:\n",
    "#     do\n",
    "def count_login():\n",
    "    password = input('password:')\n",
    "    if password == '12345':\n",
    "        print('Success!')\n",
    "    else:\n",
    "        print('Eorr,Try Again!')\n",
    "        count_login()\n",
    "count_login()"
   ]
  },
  {
   "cell_type": "code",
   "execution_count": null,
   "metadata": {},
   "outputs": [],
   "source": [
    "# 循环语句\n",
    "# for item in interable: \n",
    "#     '''item 表示 interable 中的元素'''\n",
    "#     do\n",
    "# ex.\n",
    "for i in range(1,11):\n",
    "    '''切记11是不输出的'''\n",
    "    print(i)"
   ]
  },
  {
   "cell_type": "code",
   "execution_count": null,
   "metadata": {},
   "outputs": [],
   "source": [
    "# while 循环\n",
    "# while conditon:\n",
    "#     do\n",
    "# ex. 1-100之和\n",
    "i = 0\n",
    "sum = 0\n",
    "while i < 100:\n",
    "    i = i + 1\n",
    "    sum = sum + i\n",
    "print(sum)"
   ]
  },
  {
   "cell_type": "markdown",
   "metadata": {},
   "source": [
    "列表数据结构。\n",
    "- 爬虫中，使用最多的是列表数据结构。"
   ]
  },
  {
   "cell_type": "code",
   "execution_count": 2,
   "metadata": {},
   "outputs": [
    {
     "name": "stdout",
     "output_type": "stream",
     "text": [
      "peter ['wangwu', 'xiaoming']\n"
     ]
    }
   ],
   "source": [
    "list = ['peter', 'lilei', 'wangwu', 'xiaoming']\n",
    "print(list[0], list[2:])"
   ]
  },
  {
   "cell_type": "code",
   "execution_count": 5,
   "metadata": {
    "collapsed": true
   },
   "outputs": [
    {
     "name": "stdout",
     "output_type": "stream",
     "text": [
      "1\n",
      "[1, 1.1, 'string', None, True, [1, 2], (1, 2), {'key', 'value'}]\n"
     ]
    }
   ],
   "source": [
    "# 列表能容纳所有对象\n",
    "list = [\n",
    "    1,\n",
    "    1.1,\n",
    "    'string',\n",
    "    print(1),\n",
    "    True,\n",
    "    [1, 2],\n",
    "    (1, 2),\n",
    "    {'key', 'value'}\n",
    "]\n",
    "print(list)"
   ]
  },
  {
   "cell_type": "code",
   "execution_count": 6,
   "metadata": {
    "collapsed": true
   },
   "outputs": [
    {
     "name": "stdout",
     "output_type": "stream",
     "text": [
      "xiaoming 23\n",
      "wangwu 15\n",
      "peter 58\n"
     ]
    }
   ],
   "source": [
    "# 多重循环 前后变量要一致\n",
    "names = ['xiaoming','wangwu','peter']\n",
    "ages = [23,15,58]\n",
    "for name, age in zip(names, ages):\n",
    "    print(name,age)"
   ]
  },
  {
   "cell_type": "code",
   "execution_count": 26,
   "metadata": {
    "collapsed": true
   },
   "outputs": [
    {
     "name": "stdout",
     "output_type": "stream",
     "text": [
      "https://www.baidu.com/s?ie=utf-8&f=8&rsv_bp=1&ch=&tn=baiduerr&bar=&wd=1\n",
      "https://www.baidu.com/s?ie=utf-8&f=8&rsv_bp=1&ch=&tn=baiduerr&bar=&wd=2\n",
      "https://www.baidu.com/s?ie=utf-8&f=8&rsv_bp=1&ch=&tn=baiduerr&bar=&wd=3\n",
      "https://www.baidu.com/s?ie=utf-8&f=8&rsv_bp=1&ch=&tn=baiduerr&bar=&wd=4\n",
      "https://www.baidu.com/s?ie=utf-8&f=8&rsv_bp=1&ch=&tn=baiduerr&bar=&wd=5\n",
      "https://www.baidu.com/s?ie=utf-8&f=8&rsv_bp=1&ch=&tn=baiduerr&bar=&wd=6\n",
      "https://www.baidu.com/s?ie=utf-8&f=8&rsv_bp=1&ch=&tn=baiduerr&bar=&wd=7\n",
      "https://www.baidu.com/s?ie=utf-8&f=8&rsv_bp=1&ch=&tn=baiduerr&bar=&wd=8\n",
      "https://www.baidu.com/s?ie=utf-8&f=8&rsv_bp=1&ch=&tn=baiduerr&bar=&wd=9\n",
      "https://www.baidu.com/s?ie=utf-8&f=8&rsv_bp=1&ch=&tn=baiduerr&bar=&wd=10\n",
      "https://www.baidu.com/s?ie=utf-8&f=8&rsv_bp=1&ch=&tn=baiduerr&bar=&wd=11\n",
      "https://www.baidu.com/s?ie=utf-8&f=8&rsv_bp=1&ch=&tn=baiduerr&bar=&wd=12\n",
      "https://www.baidu.com/s?ie=utf-8&f=8&rsv_bp=1&ch=&tn=baiduerr&bar=&wd=13\n"
     ]
    }
   ],
   "source": [
    "# 列表推导式构造13页URL列表数据\n",
    "urls = ['https://www.baidu.com/s?ie=utf-8&f=8&rsv_bp=1&ch=&tn=baiduerr&bar=&wd={}'.format(number)\n",
    "        for number in range(1,14)]\n",
    "for url in urls:\n",
    "    print(url)"
   ]
  },
  {
   "cell_type": "code",
   "execution_count": 27,
   "metadata": {},
   "outputs": [
    {
     "name": "stdout",
     "output_type": "stream",
     "text": [
      "{'name': 'xiaoming', 'age': '23', 'sex': 'man'}\n"
     ]
    }
   ],
   "source": [
    "# 插入 MongoDB 数据库需用字典结构\n",
    "# 字典\n",
    "user_info = {\n",
    "    'name':'xiaoming',\n",
    "    'age':'23',\n",
    "    'sex':'man'\n",
    "}\n",
    "print(user_info)"
   ]
  },
  {
   "cell_type": "code",
   "execution_count": 28,
   "metadata": {
    "collapsed": true
   },
   "outputs": [
    {
     "ename": "TypeError",
     "evalue": "'set' object is not callable",
     "output_type": "error",
     "traceback": [
      "\u001b[1;31m---------------------------------------------------------------------------\u001b[0m",
      "\u001b[1;31mTypeError\u001b[0m                                 Traceback (most recent call last)",
      "\u001b[1;32m<ipython-input-28-388cd95eebda>\u001b[0m in \u001b[0;36m<module>\u001b[1;34m\u001b[0m\n\u001b[0;32m      3\u001b[0m \u001b[0mtuple\u001b[0m \u001b[1;33m=\u001b[0m \u001b[1;33m(\u001b[0m\u001b[1;36m1\u001b[0m\u001b[1;33m,\u001b[0m\u001b[1;36m2\u001b[0m\u001b[1;33m,\u001b[0m\u001b[1;36m3\u001b[0m\u001b[1;33m)\u001b[0m\u001b[1;33m\u001b[0m\u001b[1;33m\u001b[0m\u001b[0m\n\u001b[0;32m      4\u001b[0m \u001b[0mlist\u001b[0m \u001b[1;33m=\u001b[0m \u001b[1;33m[\u001b[0m\u001b[1;34m'xiaoming'\u001b[0m\u001b[1;33m,\u001b[0m\u001b[1;34m'zhangyu'\u001b[0m\u001b[1;33m,\u001b[0m\u001b[1;34m'xiaoming'\u001b[0m\u001b[1;33m]\u001b[0m\u001b[1;33m\u001b[0m\u001b[1;33m\u001b[0m\u001b[0m\n\u001b[1;32m----> 5\u001b[1;33m \u001b[0mset\u001b[0m \u001b[1;33m=\u001b[0m \u001b[0mset\u001b[0m\u001b[1;33m(\u001b[0m\u001b[0mlist\u001b[0m\u001b[1;33m)\u001b[0m\u001b[1;33m\u001b[0m\u001b[1;33m\u001b[0m\u001b[0m\n\u001b[0m\u001b[0;32m      6\u001b[0m \u001b[0mprint\u001b[0m\u001b[1;33m(\u001b[0m\u001b[0mset\u001b[0m\u001b[1;33m)\u001b[0m\u001b[1;33m\u001b[0m\u001b[1;33m\u001b[0m\u001b[0m\n\u001b[0;32m      7\u001b[0m \u001b[1;31m# 集合是用大括号构建的。\u001b[0m\u001b[1;33m\u001b[0m\u001b[1;33m\u001b[0m\u001b[1;33m\u001b[0m\u001b[0m\n",
      "\u001b[1;31mTypeError\u001b[0m: 'set' object is not callable"
     ]
    }
   ],
   "source": [
    "# 元组和集合 仅能查看,无序，不重复\n",
    "# 因此可通过集合把重复的数据去除\n",
    "tuple = (1,2,3)\n",
    "list = ['xiaoming','zhangyu','xiaoming']\n",
    "set = set(list)\n",
    "print(set)\n",
    "# 集合是用大括号构建的。"
   ]
  },
  {
   "cell_type": "markdown",
   "metadata": {},
   "source": [
    "Python 文件操作\n",
    "打开文件、读写数据\n",
    "opein() 函数 语法如下：\n",
    "`open(name[, mode[, buffering]])`\n",
    "模式和缓冲可选 # mode 参数的输入是有必要的\n",
    "名为 f 的类文件对象 有 f.read() f.write() f.close()方法\n",
    "'r' 读模式 read\n",
    "'w' 写模式 write\n",
    "'a' 追加模式 add\n",
    "'b' 二进制模式（可添加到其他模式中使用） bit\n",
    "'+' 读/写模式（可添加到其他模式中使用）\n",
    "'w+' 覆盖"
   ]
  },
  {
   "cell_type": "markdown",
   "metadata": {},
   "source": [
    "读写文件"
   ]
  },
  {
   "cell_type": "code",
   "execution_count": null,
   "metadata": {},
   "outputs": [],
   "source": [
    "f = open('C:/workspace/20190423/file.txt','r') # windows 路径写法\n",
    "f.read() "
   ]
  },
  {
   "cell_type": "code",
   "execution_count": 45,
   "metadata": {},
   "outputs": [
    {
     "name": "stdout",
     "output_type": "stream",
     "text": [
      "hello world\n"
     ]
    }
   ],
   "source": [
    "f = open('c:/workspace/20190423/file.txt','w+')\n",
    "f.write('hello world')\n",
    "\n",
    "f = open('c:/workspace/20190423/file.txt','r')\n",
    "content = f.read()\n",
    "print(content)"
   ]
  },
  {
   "cell_type": "code",
   "execution_count": 46,
   "metadata": {},
   "outputs": [
    {
     "name": "stdout",
     "output_type": "stream",
     "text": [
      "hello world\n"
     ]
    }
   ],
   "source": [
    "# 关闭文件\n",
    "f = open('c:/workspace/20190423/file.txt','r')\n",
    "content = f.read()\n",
    "print(content)\n",
    "f.close()"
   ]
  },
  {
   "cell_type": "code",
   "execution_count": 48,
   "metadata": {},
   "outputs": [
    {
     "name": "stdout",
     "output_type": "stream",
     "text": [
      "['frame', 'wheel', 'pedal']\n",
      "['frame', 'wheel', 'pedal']\n"
     ]
    }
   ],
   "source": [
    "# python 面向对象\n",
    "# 定义类\n",
    "class Bike:\n",
    "    '''自行车的类'''\n",
    "    compose = ['frame','wheel','pedal'] # 车架，车轮，脚踏板。compose专业术语类的属性。\n",
    "\n",
    "# 类的实例化\n",
    "my_bike = Bike()\n",
    "you_bike = Bike()\n",
    "print(my_bike.compose) # 类属性引用\n",
    "print(you_bike.compose) # 类的属性都是一样的"
   ]
  },
  {
   "cell_type": "code",
   "execution_count": 49,
   "metadata": {},
   "outputs": [
    {
     "name": "stdout",
     "output_type": "stream",
     "text": [
      "basket\n"
     ]
    }
   ],
   "source": [
    "# 实例属性\n",
    "class Bike:\n",
    "    compose = ['frame','wheel','pedal']\n",
    "my_bike = Bike()\n",
    "my_bike.other = 'basket' \n",
    "print(my_bike.other) # 实例属性\n",
    "# 通过给类的实例属性赋值，就是实例属性。compose 属性属于该款自行车。而other属性只属于my_bike这个类的实例。"
   ]
  },
  {
   "cell_type": "code",
   "execution_count": 50,
   "metadata": {},
   "outputs": [
    {
     "name": "stdout",
     "output_type": "stream",
     "text": [
      "you are riding\n"
     ]
    }
   ],
   "source": [
    "# 实例方法 方法就是函数，是对实例进行使用的，又叫实例方法。\n",
    "class Bike:\n",
    "    compose = ['frame','wheel','pedal']\n",
    "    def use(selt):\n",
    "        '''这里 self 参数就是实例本身'''\n",
    "        print('you are riding')\n",
    "my_bike = Bike()\n",
    "my_bike.use()"
   ]
  },
  {
   "cell_type": "code",
   "execution_count": 51,
   "metadata": {},
   "outputs": [
    {
     "name": "stdout",
     "output_type": "stream",
     "text": [
      "you ride 1000m\n"
     ]
    }
   ],
   "source": [
    "class Bike:\n",
    "    compose = ['frame','wheel','pedal']\n",
    "    def use(selt,time):\n",
    "        '''和函数一样。实例方法是可以有参数的'''\n",
    "        print('you ride {}m'.format(time*100))\n",
    "my_bike = Bike()\n",
    "my_bike.use(10)"
   ]
  },
  {
   "cell_type": "code",
   "execution_count": 62,
   "metadata": {},
   "outputs": [
    {
     "name": "stdout",
     "output_type": "stream",
     "text": [
      "basket\n"
     ]
    }
   ],
   "source": [
    "# 魔法方法 __init__()方法\n",
    "class Bike:\n",
    "    compose = ['frame','wheel','pedal']\n",
    "    def __init__(self):\n",
    "        # 不需要引用该方法也会被自动执行\n",
    "        self.other = 'basket'\n",
    "    def use(self,time):\n",
    "        print('you ride {}m'.format(time*100))\n",
    "my_bike = Bike()\n",
    "print(my_bike.other)\n",
    "# print(my_bike.use(10))"
   ]
  },
  {
   "cell_type": "code",
   "execution_count": 63,
   "metadata": {},
   "outputs": [
    {
     "name": "stdout",
     "output_type": "stream",
     "text": [
      "basket\n",
      "you spent 4\n"
     ]
    }
   ],
   "source": [
    "# 类的继承\n",
    "# 共享单车 比普通的单车多了付费功能\n",
    "class Bike:\n",
    "    '''base class'''\n",
    "    compose = ['frame','wheel','pedal']\n",
    "    def __init__(self):\n",
    "        self.other = 'basket'  # 定义实例的属性\n",
    "    def use(self,time):\n",
    "        print('you ride {}m'.format(time*100))\n",
    "class Share_bike(Bike):\n",
    "    '''继承class Bike类'''\n",
    "    def cost(self,hour):\n",
    "        print('you spent {}'.format(hour*2))\n",
    "bike = Share_bike()\n",
    "print(bike.other)\n",
    "bike.cost(2)\n",
    "# 父类的变量和方法可完全被子类继承，在特殊情况下，也可对其覆盖。"
   ]
  },
  {
   "cell_type": "markdown",
   "metadata": {},
   "source": [
    "至此。第一章内容学习完毕。\n",
    "Time 23:00\n",
    "Date：2019/4/23 2019/4/24 晚\n",
    "\n",
    "[TOC]\n",
    "\n",
    "### 字符串4个方法\n",
    "- replace()\n",
    "- strip()\n",
    "- slipt()\n",
    "- format()\n",
    "\n",
    "### method 方法\n",
    " - def funciton():\n",
    " \n",
    "### 流程控制\n",
    "\n",
    "#### 判断\n",
    "- if\n",
    "- 多重判断 if elif else\n",
    "\n",
    "#### 循环\n",
    "- for\n",
    "- while\n",
    "- 多重循环\n",
    "    列表推导式构\n",
    "    \n",
    "### 数据结构\n",
    "- list[]\n",
    "- key{}\n",
    "- tuple()\n",
    "\n",
    "### 文件操作\n",
    "- f.read()\n",
    "- f.write()\n",
    "- f.close()\n",
    "\n",
    "#### modle 模式\n",
    "- 'r'\n",
    "- 'w'\n",
    "- 'a'\n",
    "- '+'\n",
    "- 'b'\n",
    "- 'w+'\n",
    "\n",
    "### 面向对象编程\n",
    "- 类\n",
    "- 类的属性\n",
    "- 类的实例化\n",
    "    - 魔法方法 __init__()\n",
    "- 类的继承"
   ]
  }
 ],
 "metadata": {
  "kernelspec": {
   "display_name": "Python 3",
   "language": "python",
   "name": "python3"
  },
  "language_info": {
   "codemirror_mode": {
    "name": "ipython",
    "version": 3
   },
   "file_extension": ".py",
   "mimetype": "text/x-python",
   "name": "python",
   "nbconvert_exporter": "python",
   "pygments_lexer": "ipython3",
   "version": "3.7.3"
  }
 },
 "nbformat": 4,
 "nbformat_minor": 2
}
