{
 "cells": [
  {
   "cell_type": "code",
   "execution_count": 8,
   "metadata": {},
   "outputs": [
    {
     "name": "stdout",
     "output_type": "stream",
     "text": [
      "'start www.baidu.com'\n",
      "<os._wrap_close object at 0x000001DA93628128>\n",
      "'start www.qq.com'\n",
      "<os._wrap_close object at 0x000001DA93628048>\n"
     ]
    }
   ],
   "source": [
    "import os\n",
    "from os import popen\n",
    "Urls_list = ['www.baidu.com', 'www.qq.com']\n",
    "for url in Urls_list:\n",
    "    command_4 =str(\"'\" + \"cmd start \" + url + \"'\")\n",
    "    print(command_4)\n",
    "    print(os.popen(command_4))"
   ]
  },
  {
   "cell_type": "code",
   "execution_count": null,
   "metadata": {},
   "outputs": [],
   "source": []
  }
 ],
 "metadata": {
  "kernelspec": {
   "display_name": "Python 3",
   "language": "python",
   "name": "python3"
  },
  "language_info": {
   "codemirror_mode": {
    "name": "ipython",
    "version": 3
   },
   "file_extension": ".py",
   "mimetype": "text/x-python",
   "name": "python",
   "nbconvert_exporter": "python",
   "pygments_lexer": "ipython3",
   "version": "3.6.0"
  }
 },
 "nbformat": 4,
 "nbformat_minor": 2
}
