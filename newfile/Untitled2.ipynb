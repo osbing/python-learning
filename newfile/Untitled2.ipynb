{
 "cells": [
  {
   "cell_type": "code",
   "execution_count": null,
   "metadata": {},
   "outputs": [
    {
     "name": "stdout",
     "output_type": "stream",
     "text": [
      "初始安装日期:     2017/7/16, 9:58:28\n",
      "系统启动时间:     2019/1/3, 12:58:06\n",
      "处理器:           安装了 1 个处理器。\n",
      "物理内存总量:     24,485 MB\n",
      "登录服务器:       \\\\WIN-FPG1G93AEEI\n",
      "\n",
      "\n",
      "正在 Ping www.a.shifen.com [14.215.177.38] 具有 1024 字节的数据:\n",
      "来自 14.215.177.38 的回复: 字节=1024 时间=8ms TTL=56\n",
      "\n",
      "14.215.177.38 的 Ping 统计信息:\n",
      "    数据包: 已发送 = 1，已接收 = 1，丢失 = 0 (0% 丢失)，\n",
      "往返行程的估计时间(以毫秒为单位):\n",
      "    最短 = 8ms，最长 = 8ms，平均 = 8ms\n",
      "\n"
     ]
    }
   ],
   "source": [
    "import os\n",
    "command_1 = 'systeminfo |findstr /R \"初始安装日期 系统启动时间 处理器 物理内存总量 登录服务器\"' #正则\n",
    "command_2 = 'ping www.baidu.com -l 1024 -n 1'\n",
    "command_3 = 'gpresult /r'\n",
    "print(os.popen(command_1).read())\n",
    "print(os.popen(command_2).read())\n",
    "print(os.popen(command_3).read())"
   ]
  },
  {
   "cell_type": "code",
   "execution_count": null,
   "metadata": {},
   "outputs": [],
   "source": [
    "Urls_list = ['www.baidu.com', 'www.qq.com']\n",
    "for url in Urls_list:\n",
    "    print(url)\n",
    "    commond_4 = \"start\" + \" \" + url\n",
    "    print(commond_4)\n",
    "    os.popen(command_4)\n",
    "# os.popen('start for url in Urls_list')"
   ]
  },
  {
   "cell_type": "code",
   "execution_count": null,
   "metadata": {},
   "outputs": [],
   "source": [
    "Urls_list = ['www.baidu.com', 'www.qq.com']\n",
    "for url in Urls_list:\n",
    "    print(url)\n",
    "    commond_4 = \"start\" + \" \" + url\n",
    "    print(commond_4)\n",
    "#     os.popen(command_4)\n",
    "# os.popen('start for url in Urls_list')"
   ]
  },
  {
   "cell_type": "code",
   "execution_count": null,
   "metadata": {},
   "outputs": [],
   "source": []
  }
 ],
 "metadata": {
  "kernelspec": {
   "display_name": "Python 3",
   "language": "python",
   "name": "python3"
  },
  "language_info": {
   "codemirror_mode": {
    "name": "ipython",
    "version": 3
   },
   "file_extension": ".py",
   "mimetype": "text/x-python",
   "name": "python",
   "nbconvert_exporter": "python",
   "pygments_lexer": "ipython3",
   "version": "3.6.0"
  }
 },
 "nbformat": 4,
 "nbformat_minor": 2
}
